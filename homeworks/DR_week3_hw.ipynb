{
 "cells": [
  {
   "cell_type": "markdown",
   "metadata": {},
   "source": [
    "# Googling how to do something is NOT cheating. \n",
    "# Googling how to do figure something out is ENCOURAGED. "
   ]
  },
  {
   "cell_type": "markdown",
   "metadata": {},
   "source": [
    "## #1 Figure out how to print the current date and time. \n",
    "The solution should be in this format:  2021-08-05 11:56:30 (YYYY-MM-DD HH:MM:SS)\n",
    "\n",
    "Hint:  You're going to have to import a library"
   ]
  },
  {
   "cell_type": "code",
   "execution_count": 10,
   "metadata": {},
   "outputs": [
    {
     "name": "stdout",
     "output_type": "stream",
     "text": [
      "2025-08-04 20:18:01.645625\n"
     ]
    }
   ],
   "source": [
    "from datetime import datetime \n",
    "time = datetime.now()\n",
    "print(time)"
   ]
  },
  {
   "cell_type": "markdown",
   "metadata": {},
   "source": [
    "## #2 Write a function that accepts the radius of a circle and returns the area of a circle.  \n",
    "The function for the area of a circle is pi * radius squared.  "
   ]
  },
  {
   "cell_type": "code",
   "execution_count": 6,
   "metadata": {},
   "outputs": [
    {
     "name": "stdout",
     "output_type": "stream",
     "text": [
      "Your circles area: 38.48451000647496\n"
     ]
    }
   ],
   "source": [
    "import math\n",
    "def area(rad):\n",
    "    ans = math.pi * math.pow(rad, 2)\n",
    "    return ans\n",
    "\n",
    "my_rad = 3.5\n",
    "print(f\"Your circles area: {area(my_rad)}\")\n"
   ]
  },
  {
   "cell_type": "markdown",
   "metadata": {},
   "source": [
    "## #3 Write a function that takes a list of numbers and returns True of all number in the list are unique and returns False if the list contains duplicate numbers. \n",
    "* Hint, maybe think of using a set()\n",
    "\n",
    "Input:  input_list = [2,4,5,5,7,9]\n",
    "\n",
    "Expected Output:  False"
   ]
  },
  {
   "cell_type": "code",
   "execution_count": 2,
   "metadata": {},
   "outputs": [
    {
     "name": "stdout",
     "output_type": "stream",
     "text": [
      "Python executable being used: /usr/local/bin/python3.12\n"
     ]
    }
   ],
   "source": [
    "import sys\n",
    "print(\"Python executable being used:\", sys.executable)"
   ]
  },
  {
   "cell_type": "markdown",
   "metadata": {},
   "source": [
    "## #4 Write a Python program to count the number of each character of a given text of a text file.\n",
    "* Use the text file called 'lil-wayne.txt' in the data folder.  \n",
    "* Convert all the characters to uppercase first, then count them.  \n",
    "* Use a dictionary in which the keys of the dictionary are the characters, and the values are the counts of that character. \n",
    "\n",
    "Expected Result:  `{'D': 74, 'W': 63, 'A': 211, 'Y': 44, 'N': 165, 'E': 274, ' ': 522, 'M': 77, 'I': 185, 'C': 60, 'H': 122, 'L': 126, 'R': 152, 'T': 180, 'J': 8, '.': 26, '(': 12, 'B': 59, 'O': 145, 'S': 152, 'P': 39, '2': 24, '7': 7, ',': 37, '1': 28, '9': 16, '8': 6, ')': 12, '[': 14, ']': 14, 'K': 13, 'F': 44, 'G': 53, 'X': 5, 'U': 66, 'V': 20, '3': 2, '4': 4, '5': 5, '6': 3, '0': 36, '\\n': 6, '-': 6, ';': 1, '!': 1, '\"': 8, \"'\": 3, '—': 1}`"
   ]
  },
  {
   "cell_type": "code",
   "execution_count": 29,
   "metadata": {},
   "outputs": [
    {
     "name": "stdout",
     "output_type": "stream",
     "text": [
      "Our string: DWAYNE MICHAEL CARTER JR. (BORN SEPTEMBER 27, 1982),[2] KNOWN PROFESSIONALLY AS LIL WAYNE, IS AN AMERICAN RAPPER, SINGER, SONGWRITER AND RECORD EXECUTIVE.. HE IS COMMONLY REGARDED AS ONE OF THE MOST INFLUENTIAL HIP HOP ARTISTS OF HIS GENERATION,[3] AND OFTEN CITED AS ONE OF THE GREATEST RAPPERS OF ALL TIME.[4][5] HIS CAREER BEGAN IN 1995, AT THE AGE OF 12, WHEN HE WAS SIGNED BY RAPPER BIRDMAN, JOINING CASH MONEY RECORDS AS THE YOUNGEST MEMBER OF THE LABEL.[6] FROM THEN ON, WAYNE WAS THE FLAGSHIP ARTIST OF CASH MONEY RECORDS BEFORE ENDING HIS ASSOCIATION WITH THE COMPANY IN JUNE 2018.[7]IN 1995, WAYNE WAS PUT IN A DUO WITH LABEL-MATE B.G. (AT THE TIME KNOWN AS LIL DOOGIE) AND THEY RECORDED AN ALBUM, TRUE STORY, RELEASED THAT YEAR, ALTHOUGH WAYNE (AT THE TIME KNOWN AS BABY D) ONLY APPEARED ON THREE TRACKS.[8] WAYNE AND B.G. SOON JOINED THE SOUTHERN HIP HOP GROUP HOT BOYS, WITH CASH MONEY LABEL-MATES JUVENILE AND TURK IN 1997; THEY RELEASED THEIR DEBUT ALBUM GET IT HOW U LIVE! IN OCTOBER THAT YEAR. THE HOT BOYS BECAME POPULAR FOLLOWING THE RELEASE OF THE ALBUM GUERRILLA WARFARE (1999) AND THE SONG BLING BLING.LIL WAYNES SOLO DEBUT ALBUM THA BLOCK IS HOT (1999) WAS HIS SOLO BREAKTHROUGH, AND HE REACHED HIGHER POPULARITY WITH HIS FOURTH ALBUM THA CARTER (2004) AND FIFTH ALBUM THA CARTER II (2005), AS WELL AS SEVERAL MIXTAPES AND COLLABORATIONS THROUGHOUT 2006 AND 2007. HE GAINED MORE PROMINENCE WITHIN THE MUSIC INDUSTRY WITH HIS SIXTH ALBUM THA CARTER III (2008), WITH FIRST-WEEK SALES OF OVER ONE MILLION COPIES IN THE US. THE ALBUM WON THE GRAMMY AWARD FOR BEST RAP ALBUM AND INCLUDED SUCCESSFUL SINGLES A MILLI, GOT MONEY (FEATURING T-PAIN), AND LOLLIPOP (FEATURING STATIC MAJOR)—THE LATTER BEING HIS FIRST SINGLE TO REACH NUMBER ONE ON THE BILLBOARD HOT 100. IN FEBRUARY 2010, WAYNE RELEASED HIS SEVENTH STUDIO ALBUM, REBIRTH, WHICH EXPERIMENTED WITH RAP ROCK AND WAS MET WITH GENERALLY NEGATIVE REVIEWS. A MONTH LATER IN MARCH 2010, LIL WAYNE BEGAN SERVING AN 8-MONTH JAIL SENTENCE IN NEW YORK AFTER BEING CONVICTED OF CRIMINAL POSSESSION OF A WEAPON STEMMING FROM AN INCIDENT IN JULY 2007. HIS EIGHTH STUDIO ALBUM I AM NOT A HUMAN BEING (2010) WAS RELEASED DURING HIS INCARCERATION, WHILE HIS 2011 ALBUM THA CARTER IV WAS RELEASED FOLLOWING HIS RELEASE. THA CARTER IV SOLD 964,000 COPIES IN ITS FIRST WEEK IN THE UNITED STATES.[9] HIS TWELFTH STUDIO ALBUM THA CARTER V WAS RELEASED IN 2018 AFTER MULTIPLE DELAYS. WAYNES THIRTEENTH ALBUM, FUNERAL, WAS RELEASED IN EARLY 2020.[10]LIL WAYNE HAS SOLD OVER 120 MILLION RECORDS WORLDWIDE, INCLUDING MORE THAN 20 MILLION ALBUMS AND 70 MILLION DIGITAL TRACKS IN THE UNITED STATES, MAKING HIM ONE OF THE WORLDS BEST-SELLING MUSIC ARTISTS.[11][12][13] HE HAS WON FIVE GRAMMY AWARDS, 11 BET AWARDS, FOUR BILLBOARD MUSIC AWARDS, TWO MTV VIDEO MUSIC AWARDS AND EIGHT NAACP IMAGE AWARDS. ON SEPTEMBER 27, 2012, HE BECAME THE FIRST MALE ARTIST TO SURPASS ELVIS PRESLEY WITH THE MOST ENTRIES ON THE BILLBOARD HOT 100, WITH 109 SONGS.[14][15] LIL WAYNE ALSO CURRENTLY SERVES AS THE CHIEF EXECUTIVE OFFICER (CEO) OF HIS OWN LABEL, YOUNG MONEY ENTERTAINMENT.\n",
      "Result: {'D': 74, 'W': 63, 'A': 211, 'Y': 44, 'N': 165, 'E': 274, ' ': 522, 'M': 77, 'I': 185, 'C': 60, 'H': 122, 'L': 126, 'R': 152, 'T': 180, 'J': 8, '.': 26, '(': 12, 'B': 59, 'O': 145, 'S': 152, 'P': 39, '2': 24, '7': 7, ',': 37, '1': 28, '9': 16, '8': 6, ')': 12, '[': 14, ']': 14, 'K': 13, 'F': 44, 'G': 53, 'X': 5, 'U': 66, 'V': 20, '3': 2, '4': 4, '5': 5, '6': 3, '0': 36, '-': 6, ';': 1, '!': 1, '—': 1}\n"
     ]
    }
   ],
   "source": [
    "import string \n",
    "\n",
    "with open(\"/Users/destinyrosado/2025-python-summer-prep/Week-03/intermediate/data/lil-wayne.txt\", \"r\") as file:\n",
    "    content = file.read()\n",
    "new_con = content.replace(\"\\n\", \"\")\n",
    "new_con = new_con.upper()\n",
    "print(\"Our string:\", new_con)\n",
    "\n",
    "# count = dict.fromkeys(string.ascii_uppercase, 0)\n",
    "count = {\n",
    "\n",
    "}\n",
    "for char in new_con:\n",
    "    if char not in count:\n",
    "        count[char] = 1\n",
    "    elif char in count:\n",
    "        count[char] += 1\n",
    "\n",
    "\n",
    "print(\"Result:\", count)\n",
    "\n"
   ]
  },
  {
   "cell_type": "markdown",
   "metadata": {},
   "source": [
    "# 4.5 Figure out how to sort the dictionary to find which character appears the most."
   ]
  },
  {
   "cell_type": "code",
   "execution_count": 32,
   "metadata": {},
   "outputs": [
    {
     "name": "stdout",
     "output_type": "stream",
     "text": [
      "[(' ', 522), ('!', 1), ('(', 12), (')', 12), (',', 37), ('-', 6), ('.', 26), ('0', 36), ('1', 28), ('2', 24), ('3', 2), ('4', 4), ('5', 5), ('6', 3), ('7', 7), ('8', 6), ('9', 16), (';', 1), ('A', 211), ('B', 59), ('C', 60), ('D', 74), ('E', 274), ('F', 44), ('G', 53), ('H', 122), ('I', 185), ('J', 8), ('K', 13), ('L', 126), ('M', 77), ('N', 165), ('O', 145), ('P', 39), ('R', 152), ('S', 152), ('T', 180), ('U', 66), ('V', 20), ('W', 63), ('X', 5), ('Y', 44), ('[', 14), (']', 14), ('—', 1)]\n"
     ]
    }
   ],
   "source": [
    "from operator import itemgetter\n",
    "sort = sorted(count.items(), key=itemgetter(0))\n",
    "print(sort)"
   ]
  },
  {
   "cell_type": "markdown",
   "metadata": {},
   "source": [
    "## #5 Using the list below...\n",
    "* Remove the fourth number from the list.\n",
    "* Take that number you just removed and multiply the last number of the list by that number. \n",
    "* Append that number to the end of the list.\n",
    "* Print the list\n",
    "\n",
    "INPUT: [1, 1, 2, 3, 5, 8, 13, 21]\n",
    "\n",
    "EXPECTED OUTPUT:  [1, 1, 2, 5, 8, 13, 21, 63]\n",
    "\n"
   ]
  },
  {
   "cell_type": "code",
   "execution_count": 40,
   "metadata": {},
   "outputs": [
    {
     "name": "stdout",
     "output_type": "stream",
     "text": [
      "Output: [1, 1, 2, 5, 8, 13, 21, 63]\n"
     ]
    }
   ],
   "source": [
    "list1 = [1, 1, 2, 3, 5, 8, 13, 21]\n",
    "# getting thrid item + removing from list\n",
    "fourth = list1[3]\n",
    "list1.remove(fourth)\n",
    "# getting product + appending to list1\n",
    "fourth = fourth * (list1[(len(list1)) -1])\n",
    "list1.append(fourth)\n",
    "\n",
    "print(\"Output:\",list1)"
   ]
  },
  {
   "cell_type": "markdown",
   "metadata": {},
   "source": [
    "## #6 Using the list below, make a new list that contains only the numbers from the original list that are divisible by three.\n",
    "\n",
    "* Input:  original_list = [2, 3, 6, 8, 9, 15, 19, 21]\n",
    "* Expected new list:  [3, 6, 9, 15, 21]\n"
   ]
  },
  {
   "cell_type": "code",
   "execution_count": 42,
   "metadata": {},
   "outputs": [
    {
     "name": "stdout",
     "output_type": "stream",
     "text": [
      "New list: [3, 6, 9, 15, 21]\n"
     ]
    }
   ],
   "source": [
    "original_list = [2, 3, 6, 8, 9, 15, 19, 21]\n",
    "new_list = []\n",
    "for num in original_list:\n",
    "    if num % 3 == 0:\n",
    "        new_list.append(num)\n",
    "print(\"New list:\", new_list)"
   ]
  },
  {
   "cell_type": "markdown",
   "metadata": {},
   "source": [
    "## #7 Reverse the list below"
   ]
  },
  {
   "cell_type": "code",
   "execution_count": 44,
   "metadata": {},
   "outputs": [
    {
     "name": "stdout",
     "output_type": "stream",
     "text": [
      "Original list: [2, 3, 6, 8, 9, 15, 19, 21]\n",
      "Reversed list: [21, 19, 15, 9, 8, 6, 3, 2]\n"
     ]
    }
   ],
   "source": [
    "original_list = [2, 3, 6, 8, 9, 15, 19, 21]\n",
    "print(\"Original list:\",original_list)\n",
    "front = 0\n",
    "back = len(original_list) - 1\n",
    "while back > front:\n",
    "    temp = original_list[front]\n",
    "    original_list[front] = original_list[back]\n",
    "    original_list[back] = temp\n",
    "    front += 1 \n",
    "    back -= 1\n",
    "\n",
    "print(\"Reversed list:\",original_list)"
   ]
  },
  {
   "cell_type": "markdown",
   "metadata": {},
   "source": [
    "## #8 Using the list below, turn every item of the list into its square.  \n",
    "* Input original_list = [1, 2, 3, 4, 5, 6, 7]\n",
    "* Expected new_list:  [1, 4, 9, 16, 25, 36, 49]\n"
   ]
  },
  {
   "cell_type": "code",
   "execution_count": 52,
   "metadata": {},
   "outputs": [
    {
     "name": "stdout",
     "output_type": "stream",
     "text": [
      "Original list: [1, 2, 3, 4, 5, 6, 7]\n",
      "Sqaured list: [1.0, 4.0, 9.0, 16.0, 25.0, 36.0, 49.0]\n"
     ]
    }
   ],
   "source": [
    "import math\n",
    "original_list = [1, 2, 3, 4, 5, 6, 7]\n",
    "print(\"Original list:\",original_list)\n",
    "spot = 0\n",
    "for x in original_list:\n",
    "    original_list[spot] = math.pow(original_list[spot], 2)\n",
    "    spot += 1\n",
    "print(\"Sqaured list:\",original_list)"
   ]
  },
  {
   "cell_type": "markdown",
   "metadata": {},
   "source": [
    "## #9  Given a two Python list. Iterate both lists simultaneously such that list1 should display item in original order and list2 in reverse order.\n",
    "Given input:\n",
    "```\n",
    "list1 = [10, 20, 30, 40]\n",
    "list2 = [100, 200, 300, 400]\n",
    "```\n",
    "\n",
    "Expected Output:\n",
    "```\n",
    "10 400\n",
    "20 300\n",
    "30 200\n",
    "40 100\n",
    "```"
   ]
  },
  {
   "cell_type": "code",
   "execution_count": 53,
   "metadata": {},
   "outputs": [
    {
     "name": "stdout",
     "output_type": "stream",
     "text": [
      "10 400\n",
      "20 300\n",
      "30 200\n",
      "40 100\n"
     ]
    }
   ],
   "source": [
    "list1 = [10, 20, 30, 40]\n",
    "list2 = [100, 200, 300, 400]\n",
    "back = len(list2) - 1\n",
    "front = 0\n",
    "for x in list1: \n",
    "    print(f\"{list1[front]} {list2[back]}\")\n",
    "    front += 1 \n",
    "    back -= 1"
   ]
  },
  {
   "cell_type": "markdown",
   "metadata": {},
   "source": [
    "## #10 Remove empty strings from the list of strings.\n",
    "Input:  `list_of_strings = ['I', 'love', '', '', 'data', '', 'science', '!']`\n",
    "\n",
    "Expected Output:  `['I', 'love', 'data', 'science', '!']`"
   ]
  },
  {
   "cell_type": "code",
   "execution_count": 5,
   "metadata": {},
   "outputs": [
    {
     "name": "stdout",
     "output_type": "stream",
     "text": [
      "['I', 'love', 'data', 'science', '!']\n"
     ]
    }
   ],
   "source": [
    "list_of_strings = ['I', 'love', '', '', 'data', '', 'science', '!']\n",
    "new = [x for x in list_of_strings if x.strip()]\n",
    "print(new)\n"
   ]
  },
  {
   "cell_type": "markdown",
   "metadata": {},
   "source": [
    "##  #11 Check if the value 999 exists in the dicitionary below.  If so, print true, if not print false.\n",
    "\n",
    "Input: sample_dict = {'a': 100, 'b': 999, 'c': 300}\n",
    "\n",
    "Expected Output:  True"
   ]
  },
  {
   "cell_type": "code",
   "execution_count": 23,
   "metadata": {},
   "outputs": [
    {
     "name": "stdout",
     "output_type": "stream",
     "text": [
      "True\n"
     ]
    }
   ],
   "source": [
    "sample_dict = {'a': 100, 'b': 999, 'c': 300}\n",
    "\n",
    "def check(sample_dicts):\n",
    "    found = False\n",
    "    for x in sample_dict.values():\n",
    "        if x == 999:\n",
    "            found = True\n",
    "    return found\n",
    "    \n",
    "print(check(sample_dict))\n"
   ]
  },
  {
   "cell_type": "markdown",
   "metadata": {},
   "source": [
    "# #12 Fix all the follow broken code snippets below\n",
    "(I got these examples from a great website, I will reference them later because they have the answers on them.)"
   ]
  },
  {
   "cell_type": "code",
   "execution_count": 26,
   "metadata": {},
   "outputs": [
    {
     "name": "stdout",
     "output_type": "stream",
     "text": [
      "Greetings, hater of pirates!\n"
     ]
    }
   ],
   "source": [
    "greeting = \"Hello, possible pirate! What's the password?\"\n",
    "password = 'admin'\n",
    "message = greeting+password\n",
    "if message in \"Arrr!\":\n",
    "\tprint(\"Go away, pirate.\")\n",
    "else:\n",
    "\tprint(\"Greetings, hater of pirates!\")"
   ]
  },
  {
   "cell_type": "code",
   "execution_count": 29,
   "metadata": {},
   "outputs": [
    {
     "name": "stdout",
     "output_type": "stream",
     "text": [
      "11425.0\n"
     ]
    }
   ],
   "source": [
    "pages = 457\n",
    "word_per_page = 250\n",
    "number_of_pieces = 100\n",
    "\n",
    "each_chunk = (pages * word_per_page)/10\n",
    "print(each_chunk)"
   ]
  },
  {
   "cell_type": "markdown",
   "metadata": {},
   "source": [
    "# Extra Credit"
   ]
  },
  {
   "cell_type": "markdown",
   "metadata": {},
   "source": [
    "## Using pandas, read the csv file in the data folder called `titianic.csv` and store it as a variable named `df`."
   ]
  },
  {
   "cell_type": "code",
   "execution_count": 43,
   "metadata": {},
   "outputs": [],
   "source": [
    "import pandas as pd\n",
    "import numpy as np\n",
    "\n",
    "df = pd.read_csv('./data/titanic.csv')\n"
   ]
  },
  {
   "cell_type": "markdown",
   "metadata": {},
   "source": [
    "## I know we didn't cover this, but figure out how to find the mean age of the age column in your dataframe. "
   ]
  },
  {
   "cell_type": "code",
   "execution_count": 55,
   "metadata": {},
   "outputs": [
    {
     "name": "stdout",
     "output_type": "stream",
     "text": [
      "Age mean: 29.69911764705882\n"
     ]
    }
   ],
   "source": [
    "print(f\"Age mean: {df['age'].mean()}\")"
   ]
  },
  {
   "cell_type": "markdown",
   "metadata": {},
   "source": [
    "## What was the oldest and youngest ages on the titanic?"
   ]
  },
  {
   "cell_type": "code",
   "execution_count": 54,
   "metadata": {},
   "outputs": [
    {
     "name": "stdout",
     "output_type": "stream",
     "text": [
      "Youngest age: 0.42\n",
      "Oldest age: 80.0\n"
     ]
    }
   ],
   "source": [
    "youngest = np.where(df['age'] < 100)\n",
    "print(f\"Youngest age: {df['age'].min()}\")\n",
    "print(f\"Oldest age: {df['age'].max()}\")"
   ]
  },
  {
   "cell_type": "markdown",
   "metadata": {},
   "source": [
    "## How many people embarked from station 'S'?"
   ]
  },
  {
   "cell_type": "code",
   "execution_count": 53,
   "metadata": {},
   "outputs": [
    {
     "name": "stdout",
     "output_type": "stream",
     "text": [
      "People embarked from station S: 644\n"
     ]
    }
   ],
   "source": [
    "embarked = df.groupby(['embarked']).size()\n",
    "print(f\"People embarked from station S: {embarked['S']}\")"
   ]
  }
 ],
 "metadata": {
  "kernelspec": {
   "display_name": "Python 3",
   "language": "python",
   "name": "python3"
  },
  "language_info": {
   "codemirror_mode": {
    "name": "ipython",
    "version": 3
   },
   "file_extension": ".py",
   "mimetype": "text/x-python",
   "name": "python",
   "nbconvert_exporter": "python",
   "pygments_lexer": "ipython3",
   "version": "3.12.6"
  }
 },
 "nbformat": 4,
 "nbformat_minor": 4
}
